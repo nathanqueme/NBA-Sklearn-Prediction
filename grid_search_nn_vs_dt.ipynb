{
  "cells": [
    {
      "cell_type": "code",
      "execution_count": null,
      "metadata": {
        "id": "qUutJ0qw2u7a"
      },
      "outputs": [],
      "source": [
        "import pandas as pd\n",
        "import sklearn\n",
        "\n",
        "df = pd.read_csv('/nba_train.csv')"
      ]
    },
    {
      "cell_type": "code",
      "source": [
        "keys_info_fp = '/player_stats.csv'\n",
        "info_df = pd.read_csv(keys_info_fp)"
      ],
      "metadata": {
        "id": "2-crmlX52OaC"
      },
      "execution_count": null,
      "outputs": []
    },
    {
      "cell_type": "code",
      "source": [
        "target_column = 'TARGET_5Yrs'\n",
        "outlier_threshold = -1 # z-score (-1 for none)\n",
        "random_state = 1000\n",
        "\n",
        "X = df.drop(columns=[target_column,])\n",
        "y = df[target_column]"
      ],
      "metadata": {
        "id": "zykv5SQt2SAv"
      },
      "execution_count": null,
      "outputs": []
    },
    {
      "cell_type": "markdown",
      "source": [
        "#### Evaluation util functions\n",
        "- Accuracy scores\n",
        "- Confusion matrix/report\n",
        "- ROC Curve/AUC score"
      ],
      "metadata": {
        "id": "PQ1w7qrP3kc9"
      }
    },
    {
      "cell_type": "code",
      "source": [
        "from sklearn.metrics import accuracy_score\n",
        "\n",
        "def evaluate_classifier(clf, X_train, y_train, X_test, y_test, name):\n",
        "    \"\"\"\n",
        "    Evaluate the classifier and print the accuracy, test score, and train score.\n",
        "    \"\"\"\n",
        "    y_pred = clf.predict(X_test)\n",
        "    accuracy = accuracy_score(y_test, y_pred)\n",
        "    train_score = clf.score(X_train, y_train)\n",
        "    test_score = clf.score(X_test, y_test)\n",
        "\n",
        "    return (name, accuracy, train_score, test_score)"
      ],
      "metadata": {
        "id": "I3FNH5vOGFsr"
      },
      "execution_count": null,
      "outputs": []
    },
    {
      "cell_type": "code",
      "execution_count": null,
      "metadata": {
        "id": "NgvF2JQv2u7s"
      },
      "outputs": [],
      "source": [
        "from sklearn.metrics import confusion_matrix\n",
        "from sklearn.metrics import ConfusionMatrixDisplay\n",
        "import numpy as np\n",
        "\n",
        "def plot_confusion_matrix(y_true, y_pred):\n",
        "    # print(\n",
        "    #     f\"\\ntrue negatives (class 0 correctly predicted)\"\n",
        "    #     f\"\\nfalse positives (class 1 incorrectly predicted as class 0)\"\n",
        "    #     f\"\\nfalse negatives (class 0 incorrectly predicted as class 1)\"\n",
        "    #     f\"\\ntrue positives (class 1 correctly predicted)\"\n",
        "    # )\n",
        "    mat = confusion_matrix(y_true, y_pred)\n",
        "    disp = ConfusionMatrixDisplay(mat)\n",
        "    fig, ax = plt.subplots()\n",
        "    disp.plot(ax=ax)\n",
        "    fig.canvas.draw()\n",
        "    image = np.frombuffer(fig.canvas.tostring_rgb(), dtype='uint8')\n",
        "    image = image.reshape(fig.canvas.get_width_height()[::-1] + (3,))\n",
        "    plt.close(fig)\n",
        "    return image\n",
        "\n",
        "\n",
        "from sklearn.metrics import classification_report\n",
        "\n",
        "def get_confusion_m_report(y_true, y_pred):\n",
        "    report = classification_report(y_true, y_pred, output_dict=True)\n",
        "    report_df = pd.DataFrame(report).transpose()\n",
        "    return report_df"
      ]
    },
    {
      "cell_type": "code",
      "source": [
        "from sklearn.metrics import roc_curve, roc_auc_score\n",
        "import matplotlib.pyplot as plt\n",
        "\n",
        "def plot_roc_curve(y_test, y_probs):\n",
        "    # AUC for the positive class (1)\n",
        "    auc1 = roc_auc_score(y_test, y_probs[:, 1])\n",
        "\n",
        "    # Plot the ROC curve for the positive class (1)\n",
        "    fig, ax = plt.subplots()\n",
        "    fpr, tpr, _ = roc_curve(y_test, y_probs[:, 1])\n",
        "    ax.plot(fpr, tpr, color='blue', lw=2, label='Class 1 ROC curve (area = {:.3f})'.format(auc1))\n",
        "\n",
        "    # Plot the random chance line\n",
        "    ax.plot([0, 1], [0, 1], color='navy', lw=2, linestyle='--')\n",
        "\n",
        "    ax.set_xlim([0.0, 1.0])\n",
        "    ax.set_ylim([0.0, 1.05])\n",
        "    ax.set_xlabel('False Positive Rate')\n",
        "    ax.set_ylabel('True Positive Rate')\n",
        "    ax.set_title('Receiver Operating Characteristic')\n",
        "    ax.legend(loc=\"lower right\")\n",
        "    fig.canvas.draw()\n",
        "    image = np.frombuffer(fig.canvas.tostring_rgb(), dtype='uint8')\n",
        "    image = image.reshape(fig.canvas.get_width_height()[::-1] + (3,))\n",
        "    plt.close(fig)\n",
        "    return image, auc1"
      ],
      "metadata": {
        "id": "E-KUudsl_64C"
      },
      "execution_count": null,
      "outputs": []
    },
    {
      "cell_type": "code",
      "source": [
        "def plot_images_grid(images, num_cols=3, title=''):\n",
        "    num_rows = (len(images) // num_cols) + 1\n",
        "    fig, axs = plt.subplots(num_rows, num_cols, figsize=(15, num_rows * 5))\n",
        "    fig.suptitle(title, fontsize=16)\n",
        "    fig.tight_layout(pad=3.0)\n",
        "    for i, (name, image) in enumerate(images):\n",
        "        row = i // num_cols\n",
        "        col = i % num_cols\n",
        "        axs[row, col].imshow(image)\n",
        "        axs[row, col].set_title(name)\n",
        "        axs[row, col].axis('off')\n",
        "    # Hide empty subplots\n",
        "    for j in range(i + 1, num_rows * num_cols):\n",
        "        fig.delaxes(axs.flatten()[j])\n",
        "    plt.show()\n",
        "    return fig"
      ],
      "metadata": {
        "id": "5C7L6YbdZG7J"
      },
      "execution_count": null,
      "outputs": []
    },
    {
      "cell_type": "code",
      "source": [
        "import shutil\n",
        "from google.colab import files\n",
        "\n",
        "def download_folder_as_zip(folder_path, zip_name):\n",
        "    \"\"\"\n",
        "    Zips the specified folder and downloads it as a zip file.\n",
        "\n",
        "    Args:\n",
        "        folder_path: Path to the folder to be zipped and downloaded.\n",
        "        zip_name: The name of the resulting zip file (without .zip extension).\n",
        "    \"\"\"\n",
        "    shutil.make_archive(zip_name, 'zip', folder_path)\n",
        "    files.download(f'{zip_name}.zip')"
      ],
      "metadata": {
        "id": "JEbvoSZJZH45"
      },
      "execution_count": null,
      "outputs": []
    },
    {
      "cell_type": "code",
      "source": [
        "import os\n",
        "\n",
        "def delete_all_files_in_folder(folder_path):\n",
        "    \"\"\"\n",
        "    Deletes all files inside the specified folder.\n",
        "\n",
        "    Args:\n",
        "        folder_path: Path to the folder where files will be deleted.\n",
        "    \"\"\"\n",
        "    for filename in os.listdir(folder_path):\n",
        "        file_path = os.path.join(folder_path, filename)\n",
        "        try:\n",
        "            if os.path.isfile(file_path) or os.path.islink(file_path):\n",
        "                os.unlink(file_path)\n",
        "            elif os.path.isdir(file_path):\n",
        "                shutil.rmtree(file_path)\n",
        "        except Exception as e:\n",
        "            print(f'Failed to delete {file_path}. Reason: {e}')"
      ],
      "metadata": {
        "id": "FPpCOG9mbrCH"
      },
      "execution_count": null,
      "outputs": []
    },
    {
      "cell_type": "markdown",
      "source": [
        "### Outliers removal"
      ],
      "metadata": {
        "id": "qN4ezYPw4_ef"
      }
    },
    {
      "cell_type": "code",
      "execution_count": null,
      "metadata": {
        "id": "ZeeG9cC82u7n"
      },
      "outputs": [],
      "source": [
        "import numpy as np\n",
        "import pandas as pd\n",
        "from scipy.stats import zscore\n",
        "\n",
        "# remove outliers with z-score threshold\n",
        "def remove_outliers(data, threshold=outlier_threshold):\n",
        "    z_scores = np.abs(zscore(data))\n",
        "    filtered_entries = (z_scores < threshold).all(axis=1)\n",
        "    return data[filtered_entries]\n",
        "\n",
        "if outlier_threshold != -1:\n",
        "  target_column = 'TARGET_5Yrs'\n",
        "  columns_to_check = df.columns[~df.columns.isin(['Id', target_column])]\n",
        "\n",
        "  # Apply outlier removal on the entire DataFrame except for 'Id' and target_column\n",
        "  df_cleaned = df.copy()\n",
        "  df_cleaned[columns_to_check] = remove_outliers(df[columns_to_check])\n",
        "\n",
        "  # Drop any rows that contain NaN values resulting from the outlier removal\n",
        "  df_cleaned.dropna(inplace=True)\n",
        "\n",
        "  df = df_cleaned"
      ]
    },
    {
      "cell_type": "markdown",
      "source": [
        "## 1. NN\n",
        "\n",
        "[See docs](https://scikit-learn.org/stable/modules/generated/sklearn.neural_network.MLPClassifier.html)\n",
        "\n",
        "[NNs](https://scikit-learn.org/stable/modules/neural_networks_supervised.html#)"
      ],
      "metadata": {
        "id": "TZzlQQKH_HJP"
      }
    },
    {
      "cell_type": "code",
      "source": [
        "from sklearn.feature_selection import SelectPercentile, f_classif\n",
        "from sklearn.neural_network import MLPClassifier\n",
        "import pandas as pd\n",
        "from sklearn.model_selection import train_test_split\n",
        "\n",
        "# Applying SelectPercentile for Neural Network\n",
        "select_percentile = SelectPercentile(f_classif, percentile=50)\n",
        "X_select_percentile = select_percentile.fit_transform(X, y)\n",
        "\n",
        "selected_features = X.columns[select_percentile.get_support()]\n",
        "X_select_percentile_df = pd.DataFrame(X_select_percentile, columns=selected_features)\n",
        "\n",
        "print(\"Selected features for Neural Network using SelectPercentile:\")\n",
        "print(selected_features)\n",
        "\n",
        "# Split the data into train and test sets\n",
        "X_train, X_test, y_train, y_test = train_test_split(X_select_percentile_df, y, test_size=0.3, random_state=random_state)"
      ],
      "metadata": {
        "colab": {
          "base_uri": "https://localhost:8080/"
        },
        "id": "OymM1QEgALIY",
        "outputId": "2bc4640b-4394-4367-afbc-944c04e96165"
      },
      "execution_count": null,
      "outputs": [
        {
          "output_type": "stream",
          "name": "stdout",
          "text": [
            "Selected features for Neural Network using SelectPercentile:\n",
            "Index(['GP', 'MIN', 'PTS', 'FGM', 'FGA', 'FTM', 'FTA', 'OREB', 'DREB', 'REB'], dtype='object')\n"
          ]
        }
      ]
    },
    {
      "cell_type": "code",
      "source": [
        "from sklearn.preprocessing import StandardScaler\n",
        "\n",
        "scaler = StandardScaler()\n",
        "scaler.fit(X_train)\n",
        "\n",
        "X_train = scaler.transform(X_train)\n",
        "X_test = scaler.transform(X_test)"
      ],
      "metadata": {
        "id": "SgIz526QBLdS"
      },
      "execution_count": null,
      "outputs": []
    },
    {
      "cell_type": "code",
      "source": [
        "from sklearn.neural_network import MLPClassifier\n",
        "\n",
        "hidden_layer_sizes = (10, 5,)\n",
        "random_state = 1000\n",
        "params = {\n",
        "    \"hidden_layer_sizes\": hidden_layer_sizes,\n",
        "    \"early_stopping\": True,\n",
        "    \"verbose\": False,\n",
        "    \"random_state\": random_state,\n",
        "    \"validation_fraction\": 0.2,\n",
        "}\n",
        "clf = MLPClassifier(**params)\n",
        "clf.fit(X_train, y_train)\n",
        "\n",
        "params = {\n",
        "    'hidden_layer_sizes': hidden_layer_sizes,\n",
        "    'activation': 'identity',\n",
        "    'solver': 'adam',\n",
        "    'learning_rate': \"adaptive\",\n",
        "    'learning_rate_init': 0.01,\n",
        "    'random_state': 1000,\n",
        "    'validation_fraction': 0.2,\n",
        "    'alpha': 0.01, # max 0.02\n",
        "}"
      ],
      "metadata": {
        "colab": {
          "base_uri": "https://localhost:8080/",
          "height": 109
        },
        "id": "GY5gljb2_Mbp",
        "outputId": "3a82867d-7b57-4703-fad0-d4f34de4f1aa"
      },
      "execution_count": null,
      "outputs": [
        {
          "output_type": "execute_result",
          "data": {
            "text/plain": [
              "MLPClassifier(activation='identity', alpha=0.01, hidden_layer_sizes=(10, 5),\n",
              "              learning_rate='adaptive', learning_rate_init=0.01,\n",
              "              random_state=1000, validation_fraction=0.2)"
            ],
            "text/html": [
              "<style>#sk-container-id-27 {color: black;background-color: white;}#sk-container-id-27 pre{padding: 0;}#sk-container-id-27 div.sk-toggleable {background-color: white;}#sk-container-id-27 label.sk-toggleable__label {cursor: pointer;display: block;width: 100%;margin-bottom: 0;padding: 0.3em;box-sizing: border-box;text-align: center;}#sk-container-id-27 label.sk-toggleable__label-arrow:before {content: \"▸\";float: left;margin-right: 0.25em;color: #696969;}#sk-container-id-27 label.sk-toggleable__label-arrow:hover:before {color: black;}#sk-container-id-27 div.sk-estimator:hover label.sk-toggleable__label-arrow:before {color: black;}#sk-container-id-27 div.sk-toggleable__content {max-height: 0;max-width: 0;overflow: hidden;text-align: left;background-color: #f0f8ff;}#sk-container-id-27 div.sk-toggleable__content pre {margin: 0.2em;color: black;border-radius: 0.25em;background-color: #f0f8ff;}#sk-container-id-27 input.sk-toggleable__control:checked~div.sk-toggleable__content {max-height: 200px;max-width: 100%;overflow: auto;}#sk-container-id-27 input.sk-toggleable__control:checked~label.sk-toggleable__label-arrow:before {content: \"▾\";}#sk-container-id-27 div.sk-estimator input.sk-toggleable__control:checked~label.sk-toggleable__label {background-color: #d4ebff;}#sk-container-id-27 div.sk-label input.sk-toggleable__control:checked~label.sk-toggleable__label {background-color: #d4ebff;}#sk-container-id-27 input.sk-hidden--visually {border: 0;clip: rect(1px 1px 1px 1px);clip: rect(1px, 1px, 1px, 1px);height: 1px;margin: -1px;overflow: hidden;padding: 0;position: absolute;width: 1px;}#sk-container-id-27 div.sk-estimator {font-family: monospace;background-color: #f0f8ff;border: 1px dotted black;border-radius: 0.25em;box-sizing: border-box;margin-bottom: 0.5em;}#sk-container-id-27 div.sk-estimator:hover {background-color: #d4ebff;}#sk-container-id-27 div.sk-parallel-item::after {content: \"\";width: 100%;border-bottom: 1px solid gray;flex-grow: 1;}#sk-container-id-27 div.sk-label:hover label.sk-toggleable__label {background-color: #d4ebff;}#sk-container-id-27 div.sk-serial::before {content: \"\";position: absolute;border-left: 1px solid gray;box-sizing: border-box;top: 0;bottom: 0;left: 50%;z-index: 0;}#sk-container-id-27 div.sk-serial {display: flex;flex-direction: column;align-items: center;background-color: white;padding-right: 0.2em;padding-left: 0.2em;position: relative;}#sk-container-id-27 div.sk-item {position: relative;z-index: 1;}#sk-container-id-27 div.sk-parallel {display: flex;align-items: stretch;justify-content: center;background-color: white;position: relative;}#sk-container-id-27 div.sk-item::before, #sk-container-id-27 div.sk-parallel-item::before {content: \"\";position: absolute;border-left: 1px solid gray;box-sizing: border-box;top: 0;bottom: 0;left: 50%;z-index: -1;}#sk-container-id-27 div.sk-parallel-item {display: flex;flex-direction: column;z-index: 1;position: relative;background-color: white;}#sk-container-id-27 div.sk-parallel-item:first-child::after {align-self: flex-end;width: 50%;}#sk-container-id-27 div.sk-parallel-item:last-child::after {align-self: flex-start;width: 50%;}#sk-container-id-27 div.sk-parallel-item:only-child::after {width: 0;}#sk-container-id-27 div.sk-dashed-wrapped {border: 1px dashed gray;margin: 0 0.4em 0.5em 0.4em;box-sizing: border-box;padding-bottom: 0.4em;background-color: white;}#sk-container-id-27 div.sk-label label {font-family: monospace;font-weight: bold;display: inline-block;line-height: 1.2em;}#sk-container-id-27 div.sk-label-container {text-align: center;}#sk-container-id-27 div.sk-container {/* jupyter's `normalize.less` sets `[hidden] { display: none; }` but bootstrap.min.css set `[hidden] { display: none !important; }` so we also need the `!important` here to be able to override the default hidden behavior on the sphinx rendered scikit-learn.org. See: https://github.com/scikit-learn/scikit-learn/issues/21755 */display: inline-block !important;position: relative;}#sk-container-id-27 div.sk-text-repr-fallback {display: none;}</style><div id=\"sk-container-id-27\" class=\"sk-top-container\"><div class=\"sk-text-repr-fallback\"><pre>MLPClassifier(activation=&#x27;identity&#x27;, alpha=0.01, hidden_layer_sizes=(10, 5),\n",
              "              learning_rate=&#x27;adaptive&#x27;, learning_rate_init=0.01,\n",
              "              random_state=1000, validation_fraction=0.2)</pre><b>In a Jupyter environment, please rerun this cell to show the HTML representation or trust the notebook. <br />On GitHub, the HTML representation is unable to render, please try loading this page with nbviewer.org.</b></div><div class=\"sk-container\" hidden><div class=\"sk-item\"><div class=\"sk-estimator sk-toggleable\"><input class=\"sk-toggleable__control sk-hidden--visually\" id=\"sk-estimator-id-27\" type=\"checkbox\" checked><label for=\"sk-estimator-id-27\" class=\"sk-toggleable__label sk-toggleable__label-arrow\">MLPClassifier</label><div class=\"sk-toggleable__content\"><pre>MLPClassifier(activation=&#x27;identity&#x27;, alpha=0.01, hidden_layer_sizes=(10, 5),\n",
              "              learning_rate=&#x27;adaptive&#x27;, learning_rate_init=0.01,\n",
              "              random_state=1000, validation_fraction=0.2)</pre></div></div></div></div></div>"
            ]
          },
          "metadata": {},
          "execution_count": 131
        }
      ]
    },
    {
      "cell_type": "code",
      "source": [
        "name = 'NN'\n",
        "eval = evaluate_classifier(clf, X_train, y_train, X_test, y_test, name)\n",
        "\n",
        "# Confusion matrix and report\n",
        "#y_pred = clf.predict(X_test)\n",
        "#confusion_report = get_confusion_m_report(y_test, y_pred)\n",
        "#confusion_reports[name] = confusion_report\n",
        "#confusion_matrix_images.append((name, plot_confusion_matrix(y_test, y_pred)))\n",
        "\n",
        "# ROC/AUC\n",
        "y_probs = clf.predict_proba(X_test)\n",
        "roc_image, auc = plot_roc_curve(y_test, y_probs)\n",
        "\n",
        "print(eval[3])\n",
        "print(f\"AUC: {auc}\")\n",
        "roc_image"
      ],
      "metadata": {
        "colab": {
          "base_uri": "https://localhost:8080/",
          "height": 556
        },
        "id": "iGQATe2SBYNl",
        "outputId": "b6449f67-4ce3-41a3-e6aa-bd92665b0e0f"
      },
      "execution_count": null,
      "outputs": [
        {
          "output_type": "stream",
          "name": "stdout",
          "text": [
            "0.8360119047619048\n",
            "AUC: 0.7121862097533227\n"
          ]
        },
        {
          "output_type": "execute_result",
          "data": {
            "text/plain": [
              "array([[[255, 255, 255],\n",
              "        [255, 255, 255],\n",
              "        [255, 255, 255],\n",
              "        ...,\n",
              "        [255, 255, 255],\n",
              "        [255, 255, 255],\n",
              "        [255, 255, 255]],\n",
              "\n",
              "       [[255, 255, 255],\n",
              "        [255, 255, 255],\n",
              "        [255, 255, 255],\n",
              "        ...,\n",
              "        [255, 255, 255],\n",
              "        [255, 255, 255],\n",
              "        [255, 255, 255]],\n",
              "\n",
              "       [[255, 255, 255],\n",
              "        [255, 255, 255],\n",
              "        [255, 255, 255],\n",
              "        ...,\n",
              "        [255, 255, 255],\n",
              "        [255, 255, 255],\n",
              "        [255, 255, 255]],\n",
              "\n",
              "       ...,\n",
              "\n",
              "       [[255, 255, 255],\n",
              "        [255, 255, 255],\n",
              "        [255, 255, 255],\n",
              "        ...,\n",
              "        [255, 255, 255],\n",
              "        [255, 255, 255],\n",
              "        [255, 255, 255]],\n",
              "\n",
              "       [[255, 255, 255],\n",
              "        [255, 255, 255],\n",
              "        [255, 255, 255],\n",
              "        ...,\n",
              "        [255, 255, 255],\n",
              "        [255, 255, 255],\n",
              "        [255, 255, 255]],\n",
              "\n",
              "       [[255, 255, 255],\n",
              "        [255, 255, 255],\n",
              "        [255, 255, 255],\n",
              "        ...,\n",
              "        [255, 255, 255],\n",
              "        [255, 255, 255],\n",
              "        [255, 255, 255]]], dtype=uint8)"
            ],
            "text/html": [
              "<style>\n",
              "      .ndarray_repr .ndarray_raw_data {\n",
              "        display: none;\n",
              "      }\n",
              "      .ndarray_repr.show_array .ndarray_raw_data {\n",
              "        display: block;\n",
              "      }\n",
              "      .ndarray_repr.show_array .ndarray_image_preview {\n",
              "        display: none;\n",
              "      }\n",
              "      </style>\n",
              "      <div id=\"id-a3713364-732e-4f2f-9e8c-53a306f4bfe2\" class=\"ndarray_repr\"><pre>ndarray (480, 640, 3) <button style=\"padding: 0 2px;\">show data</button></pre><img src=\"data:image/png;base64,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\" class=\"ndarray_image_preview\" /><pre class=\"ndarray_raw_data\">array([[[255, 255, 255],\n",
              "        [255, 255, 255],\n",
              "        [255, 255, 255],\n",
              "        ...,\n",
              "        [255, 255, 255],\n",
              "        [255, 255, 255],\n",
              "        [255, 255, 255]],\n",
              "\n",
              "       [[255, 255, 255],\n",
              "        [255, 255, 255],\n",
              "        [255, 255, 255],\n",
              "        ...,\n",
              "        [255, 255, 255],\n",
              "        [255, 255, 255],\n",
              "        [255, 255, 255]],\n",
              "\n",
              "       [[255, 255, 255],\n",
              "        [255, 255, 255],\n",
              "        [255, 255, 255],\n",
              "        ...,\n",
              "        [255, 255, 255],\n",
              "        [255, 255, 255],\n",
              "        [255, 255, 255]],\n",
              "\n",
              "       ...,\n",
              "\n",
              "       [[255, 255, 255],\n",
              "        [255, 255, 255],\n",
              "        [255, 255, 255],\n",
              "        ...,\n",
              "        [255, 255, 255],\n",
              "        [255, 255, 255],\n",
              "        [255, 255, 255]],\n",
              "\n",
              "       [[255, 255, 255],\n",
              "        [255, 255, 255],\n",
              "        [255, 255, 255],\n",
              "        ...,\n",
              "        [255, 255, 255],\n",
              "        [255, 255, 255],\n",
              "        [255, 255, 255]],\n",
              "\n",
              "       [[255, 255, 255],\n",
              "        [255, 255, 255],\n",
              "        [255, 255, 255],\n",
              "        ...,\n",
              "        [255, 255, 255],\n",
              "        [255, 255, 255],\n",
              "        [255, 255, 255]]], dtype=uint8)</pre></div><script>\n",
              "      (() => {\n",
              "      const titles = ['show data', 'hide data'];\n",
              "      let index = 0\n",
              "      document.querySelector('#id-a3713364-732e-4f2f-9e8c-53a306f4bfe2 button').onclick = (e) => {\n",
              "        document.querySelector('#id-a3713364-732e-4f2f-9e8c-53a306f4bfe2').classList.toggle('show_array');\n",
              "        index = (++index) % 2;\n",
              "        document.querySelector('#id-a3713364-732e-4f2f-9e8c-53a306f4bfe2 button').textContent = titles[index];\n",
              "        e.preventDefault();\n",
              "        e.stopPropagation();\n",
              "      }\n",
              "      })();\n",
              "    </script>"
            ]
          },
          "metadata": {},
          "execution_count": 132
        }
      ]
    },
    {
      "cell_type": "code",
      "source": [
        "import pandas as pd\n",
        "from sklearn.neural_network import MLPClassifier\n",
        "\n",
        "test_fp = '/content/nba_test.csv'\n",
        "test_df = pd.read_csv(test_fp)\n",
        "test_df = pd.DataFrame(test_df, columns=selected_features)\n",
        "Xk_test = test_df\n",
        "\n",
        "# Predict probabilities for the test set\n",
        "probabilities = clf.predict_proba(Xk_test)[:, 1]  # probability for class 1\n",
        "\n",
        "results_df = pd.DataFrame({\n",
        "    'Id': range(len(probabilities)),\n",
        "    'TARGET_5Yrs': probabilities\n",
        "})\n",
        "\n",
        "# Save the results\n",
        "results_fp = 'kaggle_results.csv'\n",
        "results_df.to_csv(results_fp, index=False)\n",
        "results_df[0:100]\n",
        ""
      ],
      "metadata": {
        "id": "5GWhySV5_R0g"
      },
      "execution_count": null,
      "outputs": []
    },
    {
      "cell_type": "markdown",
      "source": [
        "Grid Search"
      ],
      "metadata": {
        "id": "vqnYvX4OD9uE"
      }
    },
    {
      "cell_type": "code",
      "source": [
        "from sklearn.model_selection import GridSearchCV\n",
        "from sklearn.neural_network import MLPClassifier\n",
        "\n",
        "from sklearn.model_selection import RandomizedSearchCV\n",
        "from scipy.stats import uniform\n",
        "\n",
        "fixed_params = {\n",
        "    'activation': 'identity',\n",
        "    'solver': 'adam',\n",
        "    'learning_rate': 'adaptive',\n",
        "    'learning_rate_init': 0.0008,\n",
        "    'random_state': random_state,\n",
        "    'validation_fraction': 0.2,\n",
        "}\n",
        "\n",
        "# grid for the other parameters\n",
        "param_grid = {\n",
        "    'hidden_layer_sizes': [hidden_layer_sizes],\n",
        "    'alpha': [0.0001, 0.001, 0.01, 0.1],\n",
        "    'max_iter': [200, 300, 400,],\n",
        "    'tol': [1e-5, 1e-4, 1e-3]\n",
        "}\n",
        "\n",
        "grid_search = GridSearchCV(\n",
        "    estimator=MLPClassifier(**fixed_params, ),\n",
        "    param_grid=param_grid,\n",
        "    scoring='accuracy',\n",
        "    cv=3,         # cross-validation\n",
        "    n_jobs=-1,\n",
        ")\n",
        "grid_search.fit(X_train, y_train)"
      ],
      "metadata": {
        "id": "7P-W7CifEALV"
      },
      "execution_count": null,
      "outputs": []
    },
    {
      "cell_type": "code",
      "source": [
        "# Print the accuracy\n",
        "best_params = grid_search.best_params_\n",
        "best_estimator = grid_search.best_estimator_\n",
        "predictions = best_estimator.predict(X_test)\n",
        "accuracy = accuracy_score(y_test, predictions)\n",
        "\n",
        "print(\"Best score:\", grid_search.best_score_)\n",
        "print(\"Accuracy on the test set:\", accuracy)\n",
        "print(f\"Best Parameters: {best_params}\")"
      ],
      "metadata": {
        "id": "lgbn-FA71a54"
      },
      "execution_count": null,
      "outputs": []
    },
    {
      "cell_type": "markdown",
      "source": [
        "## 2. DT\n",
        "[See docs](https://scikit-learn.org/stable/modules/generated/sklearn.tree.DecisionTreeClassifier.html)\n",
        "[DT](https://scikit-learn.org/stable/modules/tree.html)"
      ],
      "metadata": {
        "id": "PyV9RmfW_JjJ"
      }
    },
    {
      "cell_type": "code",
      "source": [
        "from sklearn.feature_selection import RFE\n",
        "from sklearn.tree import DecisionTreeClassifier\n",
        "import pandas as pd\n",
        "from sklearn.model_selection import train_test_split\n",
        "\n",
        "# Applying RFE for Decision Tree\n",
        "rfe = RFE(estimator=DecisionTreeClassifier(), n_features_to_select=12)\n",
        "X_rfe = rfe.fit_transform(X, y)\n",
        "selected_features = X.columns[rfe.get_support()]\n",
        "X_rfe_df = pd.DataFrame(X_rfe, columns=selected_features)\n",
        "\n",
        "print(\"Selected features for Decision Tree using RFE:\")\n",
        "print(selected_features)\n",
        "\n",
        "# Split the data into train and test sets\n",
        "X_train, X_test, y_train, y_test = train_test_split(X_rfe_df, y, test_size=0.3, random_state=random_state)"
      ],
      "metadata": {
        "colab": {
          "base_uri": "https://localhost:8080/"
        },
        "id": "EfxtmdxZACmf",
        "outputId": "1be9ac42-2023-414e-9361-b490868af104"
      },
      "execution_count": null,
      "outputs": [
        {
          "output_type": "stream",
          "name": "stdout",
          "text": [
            "Selected features for Decision Tree using RFE:\n",
            "Index(['Id', 'GP', 'MIN', 'FGA', 'FG%', '3PA', '3P%', 'FTM', 'FT%', 'REB',\n",
            "       'AST', 'TOV'],\n",
            "      dtype='object')\n"
          ]
        }
      ]
    },
    {
      "cell_type": "code",
      "source": [
        "from sklearn.tree import DecisionTreeClassifier, plot_tree\n",
        "\n",
        "params = {\n",
        "  'max_depth': 3,\n",
        "  'min_samples_leaf': 6,\n",
        "}\n",
        "clf = DecisionTreeClassifier(**params)\n",
        "clf.fit(X_train, y_train)\n",
        "clf.feature_importances_\n",
        "plot_tree(clf)\n",
        "\n",
        "params = {\n",
        "  'max_depth': 6,\n",
        "  'min_samples_leaf': 2,\n",
        "  'min_samples_split': 20,\n",
        "}"
      ],
      "metadata": {
        "id": "ciAJmfuk_M9s"
      },
      "execution_count": null,
      "outputs": []
    },
    {
      "cell_type": "code",
      "source": [
        "name = 'DT'\n",
        "eval = evaluate_classifier(clf, X_train, y_train, X_test, y_test, name)\n",
        "\n",
        "# Confusion matrix and report\n",
        "#y_pred = clf.predict(X_test)\n",
        "#confusion_report = get_confusion_m_report(y_test, y_pred)\n",
        "#confusion_reports[name] = confusion_report\n",
        "#confusion_matrix_images.append((name, plot_confusion_matrix(y_test, y_pred)))\n",
        "\n",
        "# ROC/AUC\n",
        "y_probs = clf.predict_proba(X_test)\n",
        "roc_image, auc = plot_roc_curve(y_test, y_probs)\n",
        "\n",
        "print(eval)\n",
        "print(f\"AUC: {auc}\")\n",
        "roc_image"
      ],
      "metadata": {
        "colab": {
          "base_uri": "https://localhost:8080/",
          "height": 556
        },
        "id": "Lkh3B-44Dx2r",
        "outputId": "812b496e-55e7-4bc6-edba-625e95eab91c"
      },
      "execution_count": null,
      "outputs": [
        {
          "output_type": "stream",
          "name": "stdout",
          "text": [
            "('DT', 0.8129166666666666, 0.8444642857142857, 0.8129166666666666)\n",
            "AUC: 0.6622955068552948\n"
          ]
        },
        {
          "output_type": "execute_result",
          "data": {
            "text/plain": [
              "array([[[255, 255, 255],\n",
              "        [255, 255, 255],\n",
              "        [255, 255, 255],\n",
              "        ...,\n",
              "        [255, 255, 255],\n",
              "        [255, 255, 255],\n",
              "        [255, 255, 255]],\n",
              "\n",
              "       [[255, 255, 255],\n",
              "        [255, 255, 255],\n",
              "        [255, 255, 255],\n",
              "        ...,\n",
              "        [255, 255, 255],\n",
              "        [255, 255, 255],\n",
              "        [255, 255, 255]],\n",
              "\n",
              "       [[255, 255, 255],\n",
              "        [255, 255, 255],\n",
              "        [255, 255, 255],\n",
              "        ...,\n",
              "        [255, 255, 255],\n",
              "        [255, 255, 255],\n",
              "        [255, 255, 255]],\n",
              "\n",
              "       ...,\n",
              "\n",
              "       [[255, 255, 255],\n",
              "        [255, 255, 255],\n",
              "        [255, 255, 255],\n",
              "        ...,\n",
              "        [255, 255, 255],\n",
              "        [255, 255, 255],\n",
              "        [255, 255, 255]],\n",
              "\n",
              "       [[255, 255, 255],\n",
              "        [255, 255, 255],\n",
              "        [255, 255, 255],\n",
              "        ...,\n",
              "        [255, 255, 255],\n",
              "        [255, 255, 255],\n",
              "        [255, 255, 255]],\n",
              "\n",
              "       [[255, 255, 255],\n",
              "        [255, 255, 255],\n",
              "        [255, 255, 255],\n",
              "        ...,\n",
              "        [255, 255, 255],\n",
              "        [255, 255, 255],\n",
              "        [255, 255, 255]]], dtype=uint8)"
            ],
            "text/html": [
              "<style>\n",
              "      .ndarray_repr .ndarray_raw_data {\n",
              "        display: none;\n",
              "      }\n",
              "      .ndarray_repr.show_array .ndarray_raw_data {\n",
              "        display: block;\n",
              "      }\n",
              "      .ndarray_repr.show_array .ndarray_image_preview {\n",
              "        display: none;\n",
              "      }\n",
              "      </style>\n",
              "      <div id=\"id-b0ed70e4-b1eb-4373-bc62-67d1ac120d36\" class=\"ndarray_repr\"><pre>ndarray (480, 640, 3) <button style=\"padding: 0 2px;\">show data</button></pre><img src=\"data:image/png;base64,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\" class=\"ndarray_image_preview\" /><pre class=\"ndarray_raw_data\">array([[[255, 255, 255],\n",
              "        [255, 255, 255],\n",
              "        [255, 255, 255],\n",
              "        ...,\n",
              "        [255, 255, 255],\n",
              "        [255, 255, 255],\n",
              "        [255, 255, 255]],\n",
              "\n",
              "       [[255, 255, 255],\n",
              "        [255, 255, 255],\n",
              "        [255, 255, 255],\n",
              "        ...,\n",
              "        [255, 255, 255],\n",
              "        [255, 255, 255],\n",
              "        [255, 255, 255]],\n",
              "\n",
              "       [[255, 255, 255],\n",
              "        [255, 255, 255],\n",
              "        [255, 255, 255],\n",
              "        ...,\n",
              "        [255, 255, 255],\n",
              "        [255, 255, 255],\n",
              "        [255, 255, 255]],\n",
              "\n",
              "       ...,\n",
              "\n",
              "       [[255, 255, 255],\n",
              "        [255, 255, 255],\n",
              "        [255, 255, 255],\n",
              "        ...,\n",
              "        [255, 255, 255],\n",
              "        [255, 255, 255],\n",
              "        [255, 255, 255]],\n",
              "\n",
              "       [[255, 255, 255],\n",
              "        [255, 255, 255],\n",
              "        [255, 255, 255],\n",
              "        ...,\n",
              "        [255, 255, 255],\n",
              "        [255, 255, 255],\n",
              "        [255, 255, 255]],\n",
              "\n",
              "       [[255, 255, 255],\n",
              "        [255, 255, 255],\n",
              "        [255, 255, 255],\n",
              "        ...,\n",
              "        [255, 255, 255],\n",
              "        [255, 255, 255],\n",
              "        [255, 255, 255]]], dtype=uint8)</pre></div><script>\n",
              "      (() => {\n",
              "      const titles = ['show data', 'hide data'];\n",
              "      let index = 0\n",
              "      document.querySelector('#id-b0ed70e4-b1eb-4373-bc62-67d1ac120d36 button').onclick = (e) => {\n",
              "        document.querySelector('#id-b0ed70e4-b1eb-4373-bc62-67d1ac120d36').classList.toggle('show_array');\n",
              "        index = (++index) % 2;\n",
              "        document.querySelector('#id-b0ed70e4-b1eb-4373-bc62-67d1ac120d36 button').textContent = titles[index];\n",
              "        e.preventDefault();\n",
              "        e.stopPropagation();\n",
              "      }\n",
              "      })();\n",
              "    </script>"
            ]
          },
          "metadata": {},
          "execution_count": 186
        }
      ]
    },
    {
      "cell_type": "code",
      "source": [
        "import pandas as pd\n",
        "from sklearn.neural_network import MLPClassifier\n",
        "\n",
        "test_fp = '/content/nba_test.csv'\n",
        "test_df = pd.read_csv(test_fp)\n",
        "test_df = pd.DataFrame(test_df, columns=selected_features)\n",
        "Xk_test = test_df\n",
        "\n",
        "probabilities = clf.predict_proba(Xk_test)[:, 1]\n",
        "\n",
        "results_df = pd.DataFrame({\n",
        "    'Id': range(len(probabilities)),\n",
        "    'TARGET_5Yrs': probabilities\n",
        "})"
      ],
      "metadata": {
        "id": "GXw5v2zoCWUH"
      },
      "execution_count": null,
      "outputs": []
    },
    {
      "cell_type": "code",
      "source": [
        "results_fp = 'kaggle_results.csv'\n",
        "results_df.to_csv(results_fp, index=False)\n",
        "results_df[0:100]"
      ],
      "metadata": {
        "id": "s6SV-ekn1rEN"
      },
      "execution_count": null,
      "outputs": []
    },
    {
      "cell_type": "markdown",
      "source": [
        "Grid search"
      ],
      "metadata": {
        "id": "HVQ6OMunD2-n"
      }
    },
    {
      "cell_type": "code",
      "source": [
        "from sklearn.ensemble import RandomForestClassifier\n",
        "from sklearn.model_selection import GridSearchCV\n",
        "from sklearn.metrics import accuracy_score\n",
        "\n",
        "param_grid = {\n",
        "    'max_depth': [4, 6, 8, 10, 12],\n",
        "    'min_samples_split': [5, 10, 15, 20, 25],\n",
        "    'min_samples_leaf': [1, 2, 3, 4, 5]\n",
        "}\n",
        "clf = DecisionTreeClassifier()\n",
        "gs = GridSearchCV(estimator=clf, param_grid=param_grid, cv=4, verbose=1, n_jobs=-1)\n",
        "gs.fit(X_train, y_train)"
      ],
      "metadata": {
        "colab": {
          "base_uri": "https://localhost:8080/"
        },
        "id": "p9dgD2IUD2UI",
        "outputId": "9b12c0bb-1470-4e44-8f84-d172ca1af3d2"
      },
      "execution_count": null,
      "outputs": [
        {
          "output_type": "stream",
          "name": "stdout",
          "text": [
            "Fitting 4 folds for each of 125 candidates, totalling 500 fits\n",
            "Best parameters: {'max_depth': 4, 'min_samples_leaf': 2, 'min_samples_split': 20}\n",
            "Best score: 0.8317857142857144\n",
            "Accuracy on the test set: 0.82625\n"
          ]
        }
      ]
    },
    {
      "cell_type": "code",
      "source": [
        "# Get the best model and its performance\n",
        "best_model = gs.best_estimator_\n",
        "predictions = best_model.predict(X_test)\n",
        "accuracy = accuracy_score(y_test, predictions)\n",
        "\n",
        "# Print the results\n",
        "print(\"Best parameters:\", gs.best_params_)\n",
        "print(\"Best score:\", gs.best_score_)\n",
        "print(\"Accuracy on the test set:\", accuracy)"
      ],
      "metadata": {
        "id": "QiKB8Ql91vlw"
      },
      "execution_count": null,
      "outputs": []
    },
    {
      "cell_type": "markdown",
      "metadata": {
        "id": "jUNsbVoo2u7p"
      },
      "source": [
        "## Refactored data normalisation"
      ]
    },
    {
      "cell_type": "markdown",
      "source": [
        "Bining\n"
      ],
      "metadata": {
        "id": "NLbjice1nxJ0"
      }
    },
    {
      "cell_type": "code",
      "source": [
        "from sklearn.feature_selection import SelectPercentile, f_classif\n",
        "from sklearn.neural_network import MLPClassifier\n",
        "from sklearn.model_selection import train_test_split, StratifiedKFold\n",
        "from sklearn.preprocessing import KBinsDiscretizer, OneHotEncoder\n",
        "from sklearn.metrics import accuracy_score, roc_auc_score, roc_curve\n",
        "import pandas as pd\n",
        "import numpy as np\n",
        "import matplotlib.pyplot as plt\n",
        "\n",
        "columns_to_bin = ['REB']\n",
        "num_bins = 10\n",
        "binner = KBinsDiscretizer(n_bins=num_bins, encode='ordinal', strategy='quantile')\n",
        "\n",
        "for column in columns_to_bin:\n",
        "    if column in X.columns:\n",
        "        bins = binner.fit_transform(X[[column]])\n",
        "        X_select_percentile_df[column + '_binned'] = bins\n",
        "\n",
        "# Apply one-hot encoding to the binned columns\n",
        "binned_columns = [col + '_binned' for col in columns_to_bin if col in X.columns]\n",
        "encoder = OneHotEncoder(sparse=False)\n",
        "X_binned_encoded = encoder.fit_transform(X_select_percentile_df[binned_columns])\n",
        "\n",
        "# Create a DataFrame with the one-hot encoded columns\n",
        "encoded_df = pd.DataFrame(X_binned_encoded, columns=encoder.get_feature_names_out(binned_columns))\n",
        "\n",
        "# Drop the original binned columns and concatenate the one-hot encoded columns\n",
        "X_select_percentile_df.drop(columns=binned_columns, inplace=True)\n",
        "X_select_percentile_df = pd.concat([X_select_percentile_df.reset_index(drop=True), encoded_df], axis=1)\n",
        "\n",
        "# Split the data again after binning and encoding\n",
        "X_train, X_test, y_train, y_test = train_test_split(X_select_percentile_df, y, test_size=0.3, random_state=random_state)\n",
        "\n"
      ],
      "metadata": {
        "id": "uIShi80QnvjC"
      },
      "execution_count": null,
      "outputs": []
    },
    {
      "cell_type": "markdown",
      "source": [
        "Min max scaling"
      ],
      "metadata": {
        "id": "p3k57G0boqbj"
      }
    },
    {
      "cell_type": "code",
      "source": [
        "import pandas as pd\n",
        "from sklearn.preprocessing import MinMaxScaler\n",
        "\n",
        "# Columns to scale\n",
        "columns_to_scale = ['REB', 'PTS', 'GP']\n",
        "\n",
        "# Apply MinMaxScaler to specified columns\n",
        "min_max = MinMaxScaler()\n",
        "X_select_percentile_df[columns_to_scale] = min_max.fit_transform(X_select_percentile_df[columns_to_scale])\n",
        "\n",
        "# Summarize the scaled data\n",
        "print(X_select_percentile_df.describe())"
      ],
      "metadata": {
        "id": "5MznPFryn_Eo"
      },
      "execution_count": null,
      "outputs": []
    },
    {
      "cell_type": "markdown",
      "source": [
        "Feature selection"
      ],
      "metadata": {
        "id": "3VtwtAmX18M-"
      }
    },
    {
      "cell_type": "code",
      "source": [
        "import pandas as pd\n",
        "from sklearn.ensemble import ExtraTreesClassifier, RandomForestClassifier\n",
        "from sklearn.feature_selection import SelectFromModel, VarianceThreshold, SelectKBest, SelectPercentile, f_classif, RFE\n",
        "from sklearn.model_selection import train_test_split, cross_val_score\n",
        "from sklearn.tree import DecisionTreeClassifier, plot_tree\n",
        "from sklearn.pipeline import Pipeline\n",
        "from sklearn.neural_network import MLPClassifier\n",
        "from sklearn.metrics import roc_curve, roc_auc_score\n",
        "import matplotlib.pyplot as plt\n",
        "from sklearn.feature_selection import SequentialFeatureSelector\n",
        "\n",
        "if explore_best_feat_selection:\n",
        "  target_column = 'TARGET_5Yrs'\n",
        "  X = df.drop(columns=[target_column])\n",
        "  y = df[target_column]\n",
        "\n",
        "  # Define feature selection methods\n",
        "  feature_selections = {\n",
        "      # For DT and RF\n",
        "      'RFE': RFE(estimator=DecisionTreeClassifier()),\n",
        "      'TreeBased': SelectFromModel(ExtraTreesClassifier(n_estimators=50)),\n",
        "      'VarianceThreshold': VarianceThreshold(threshold=(.8 * (1 - .8))),\n",
        "\n",
        "      # For NNs\n",
        "      'SelectKBest': SelectKBest(f_classif, k=5),\n",
        "      'SelectPercentile': SelectPercentile(f_classif, percentile=50),\n",
        "      'SFS': SequentialFeatureSelector(estimator=DecisionTreeClassifier(), n_features_to_select=5, direction='forward')\n",
        "  }\n",
        "\n",
        "  # Function to evaluate feature selection methods\n",
        "  def evaluate_feature_selection(X, y, feature_selections, classifier):\n",
        "      results = {}\n",
        "      for name, selector in feature_selections.items():\n",
        "          pipe = Pipeline([\n",
        "              ('feature_selection', selector),\n",
        "              ('classifier', classifier)\n",
        "          ])\n",
        "          scores = cross_val_score(pipe, X, y, cv=5)\n",
        "          results[name] = scores.mean()\n",
        "      return results\n",
        "\n",
        "  # Function to print and plot results\n",
        "  def print_and_plot_results(X, y, classifier, classifier_name):\n",
        "      results = evaluate_feature_selection(X, y, feature_selections, classifier)\n",
        "\n",
        "      print(f\"Feature Selection Performance for {classifier_name}:\")\n",
        "      for method, score in results.items():\n",
        "          print(f\"{method}: {score:.4f}\")\n",
        "\n",
        "      best_method = max(results, key=results.get)\n",
        "      print(f\"\\nBest Feature Selection Method for {classifier_name}: {best_method}\")\n",
        "\n",
        "      best_selector = feature_selections[best_method]\n",
        "      X_new = best_selector.fit_transform(X, y)\n",
        "\n",
        "      # Get the boolean mask of selected features\n",
        "      selected_features = best_selector.get_support()\n",
        "\n",
        "      # Get the names of the selected features\n",
        "      selected_feature_names = X.columns[selected_features]\n",
        "\n",
        "      # Print the names of the selected features\n",
        "      print(\"Selected Features:\")\n",
        "      for feature in selected_feature_names:\n",
        "          print(feature)\n",
        "\n",
        "      X_train, X_test, y_train, y_test = train_test_split(X_new, y, test_size=0.3, random_state=1000)\n",
        "\n",
        "      classifier.fit(X_train, y_train)\n",
        "\n",
        "      if isinstance(classifier, DecisionTreeClassifier):\n",
        "          plt.figure(figsize=(20,10))\n",
        "          plot_tree(classifier, filled=True, feature_names=X.columns[best_selector.get_support()], class_names=['0', '1'])\n",
        "          plt.show()\n",
        "\n",
        "      y_train_pred_proba = classifier.predict_proba(X_train)[:, 1]\n",
        "      y_test_pred_proba = classifier.predict_proba(X_test)[:, 1]\n",
        "\n",
        "      train_auc = roc_auc_score(y_train, y_train_pred_proba)\n",
        "      test_auc = roc_auc_score(y_test, y_test_pred_proba)\n",
        "      print(f\"Training AUC for {classifier_name}: {train_auc:.4f}\")\n",
        "      print(f\"Testing AUC for {classifier_name}: {test_auc:.4f}\")\n",
        "\n",
        "      fpr, tpr, _ = roc_curve(y_test, y_test_pred_proba)\n",
        "      plt.figure()\n",
        "      plt.plot(fpr, tpr, color='darkorange', lw=2, label=f'ROC curve (area = %0.2f)' % test_auc)\n",
        "      plt.plot([0, 1], [0, 1], color='navy', lw=2, linestyle='--')\n",
        "      plt.xlim([0.0, 1.0])\n",
        "      plt.ylim([0.0, 1.05])\n",
        "      plt.xlabel('False Positive Rate')\n",
        "      plt.ylabel('True Positive Rate')\n",
        "      plt.title(f'Receiver Operating Characteristic for {classifier_name}')\n",
        "      plt.legend(loc=\"lower right\")\n",
        "      plt.show()\n",
        "\n",
        "  # Evaluate and print results for Decision Tree\n",
        "  print_and_plot_results(X, y, DecisionTreeClassifier(max_depth=3, max_leaf_nodes=5), \"Decision Tree\")\n",
        "\n",
        "  # Evaluate and print results for Random Forest\n",
        "  #print_and_plot_results(X, y, RandomForestClassifier(n_estimators=100), \"Random Forest\")\n",
        "\n",
        "  # Evaluate and print results for Neural Network\n",
        "  print_and_plot_results(X, y, MLPClassifier(max_iter=1000), \"Neural Network\")\n",
        "\n",
        "# DT\n",
        "# RFE: 0.8336 (0.6849)\n",
        "# TreeBased: 0.8334 (0.6839)\n",
        "# VarianceThreshold: 0.8334 (0.6839)\n",
        "\n",
        "# RFE Selected Features:\n",
        "# GP\n",
        "# MIN\n",
        "# FGA\n",
        "# FG%\n",
        "# 3PA\n",
        "# 3P%\n",
        "# FT%\n",
        "# REB\n",
        "# AST\n",
        "\n",
        "# NN\n",
        "#SelectPercentile: 0.8334 (AUC 0.7031)\n",
        "#SelectKBest: 0.8332 (AUC 0.6954)\n",
        "#SFS: 0.8334 (AUC 0.6930)\n",
        "\n",
        "# SelectedPercentile features\n",
        "# GP\n",
        "# MIN\n",
        "# PTS\n",
        "# FGM\n",
        "# FTM\n",
        "# FTA\n",
        "# OREB\n",
        "# DREB\n",
        "# REB"
      ],
      "metadata": {
        "id": "RuHnLYOI5zx8"
      },
      "execution_count": null,
      "outputs": []
    }
  ],
  "metadata": {
    "kernelspec": {
      "display_name": "Python 3",
      "name": "python3"
    },
    "language_info": {
      "codemirror_mode": {
        "name": "ipython",
        "version": 3
      },
      "file_extension": ".py",
      "mimetype": "text/x-python",
      "name": "python",
      "nbconvert_exporter": "python",
      "pygments_lexer": "ipython3",
      "version": "3.11.9"
    },
    "colab": {
      "provenance": [],
      "collapsed_sections": [
        "jUNsbVoo2u7p"
      ]
    }
  },
  "nbformat": 4,
  "nbformat_minor": 0
}